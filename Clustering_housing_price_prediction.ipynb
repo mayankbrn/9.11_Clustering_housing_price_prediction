{
  "nbformat": 4,
  "nbformat_minor": 0,
  "metadata": {
    "colab": {
      "provenance": [],
      "authorship_tag": "ABX9TyMI316/04eYf237rvCVZ9SV",
      "include_colab_link": true
    },
    "kernelspec": {
      "name": "python3",
      "display_name": "Python 3"
    },
    "language_info": {
      "name": "python"
    }
  },
  "cells": [
    {
      "cell_type": "markdown",
      "metadata": {
        "id": "view-in-github",
        "colab_type": "text"
      },
      "source": [
        "<a href=\"https://colab.research.google.com/github/mayankbrn/9.11_Clustering_housing_price_prediction/blob/main/Clustering_housing_price_prediction.ipynb\" target=\"_parent\"><img src=\"https://colab.research.google.com/assets/colab-badge.svg\" alt=\"Open In Colab\"/></a>"
      ]
    },
    {
      "cell_type": "code",
      "execution_count": null,
      "metadata": {
        "id": "T6IKwyyu-Ghr"
      },
      "outputs": [],
      "source": [
        "https://drive.google.com/file/d/10InrI9jsbHPxkt2aVDHNcZdE5OaIZ9je/view?usp=drive_link"
      ]
    }
  ]
}